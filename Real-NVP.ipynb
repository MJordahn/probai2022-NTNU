{
 "cells": [
  {
   "cell_type": "code",
   "execution_count": 1,
   "id": "775b2cd3",
   "metadata": {},
   "outputs": [
    {
     "name": "stderr",
     "output_type": "stream",
     "text": [
      "/opt/homebrew/lib/python3.10/site-packages/tqdm/auto.py:22: TqdmWarning: IProgress not found. Please update jupyter and ipywidgets. See https://ipywidgets.readthedocs.io/en/stable/user_install.html\n",
      "  from .autonotebook import tqdm as notebook_tqdm\n"
     ]
    }
   ],
   "source": [
    "import torch\n",
    "import torch.nn as nn\n",
    "import pandas as pd\n",
    "from torch.utils.data import Dataset, DataLoader\n",
    "from torch.distributions import MultivariateNormal\n",
    "import matplotlib.pyplot as plt\n",
    "from utility import *"
   ]
  },
  {
   "cell_type": "code",
   "execution_count": 7,
   "id": "b55477d2",
   "metadata": {},
   "outputs": [],
   "source": [
    "class coupling_layer(nn.Module):\n",
    "    \"\"\"\n",
    "    Implements coupling layer:\n",
    "    Forward transform (x = f(z)):\n",
    "    x_1:d = z_1:d\n",
    "    x_d+1:D = (z_d+1:D - \\mu_d+1:D)*exp(-\\alpha_d+1:D)\n",
    "    \n",
    "    Inverse transform (z = f^-1(x)):\n",
    "    z_1:d = x_1:d\n",
    "    z_d+1:D = x_d+1_D*exp(\\alpha_d+1:D)+\\mu_d+1:D\n",
    "    \n",
    "    d is a parameter here (although no choice in 2D case).\n",
    "    \"\"\"\n",
    "    def __init__(self, net):\n",
    "        \"\"\"\n",
    "        Init net for parametrizing $\\alpha$ and $\\mu$.\n",
    "        \"\"\"\n",
    "        super().__init__()\n",
    "        self.net = net\n",
    "        \n",
    "    def forward(self, z):\n",
    "        with torch.no_grad():\n",
    "            z_1_d, z_d_D = torch.chunk(z, 2, dim=-1)\n",
    "            outs = self.net(z_1_d)\n",
    "            mu, alpha = torch.chunk(outs, 2, dim=-1)\n",
    "            x_1_d = z_1_d\n",
    "            x_d_D = (z_d_D-mu)*torch.exp(-alpha)\n",
    "        x = torch.cat([x_1_d, x_d_D], dim=-1)\n",
    "        return x    \n",
    "    \n",
    "    def inverse(self, x):\n",
    "        x_1_d, x_d_D = torch.chunk(x, 2, dim=-1)\n",
    "        outs = self.net(x_1_d)\n",
    "        mu, alpha = torch.chunk(outs, 2, dim=-1)\n",
    "        z_1_d = x_1_d\n",
    "        z_d_D = x_d_D*torch.exp(alpha)+mu\n",
    "        z = torch.cat([z_1_d, z_d_D], dim=-1)\n",
    "        return z, alpha       \n",
    "    \n",
    "class CouplingFlow(nn.Module):\n",
    "    \"\"\"\n",
    "    Now create the planar flow. Stack layers of transforms and forward.\n",
    "    *K is a choice in planar flows.*\n",
    "    \"\"\"\n",
    "    def __init__(self, dim, K):\n",
    "        super().__init__()\n",
    "        \n",
    "        self.transform_layers = [PlanarTransform(dim) for i in range(K)]\n",
    "        self.model = nn.Sequential(*self.transform_layers)\n",
    "        \n",
    "    def forward(self, z):\n",
    "        log_det_J = 0\n",
    "        \n",
    "        for layer in self.transform_layers:\n",
    "            log_det_J += layer.log_determ(z)\n",
    "            z = layer(z)\n",
    "            \n",
    "        return z, log_det_J"
   ]
  },
  {
   "cell_type": "code",
   "execution_count": 8,
   "id": "f788414c",
   "metadata": {},
   "outputs": [
    {
     "name": "stdout",
     "output_type": "stream",
     "text": [
      "(tensor([[1.]]), tensor([[2.]]))\n"
     ]
    }
   ],
   "source": [
    "cl = coupling_layer(1)\n",
    "print(cl(torch.Tensor([[1,2]])))"
   ]
  },
  {
   "cell_type": "code",
   "execution_count": null,
   "id": "8722d4a5",
   "metadata": {},
   "outputs": [],
   "source": []
  }
 ],
 "metadata": {
  "kernelspec": {
   "display_name": "Python 3 (ipykernel)",
   "language": "python",
   "name": "python3"
  },
  "language_info": {
   "codemirror_mode": {
    "name": "ipython",
    "version": 3
   },
   "file_extension": ".py",
   "mimetype": "text/x-python",
   "name": "python",
   "nbconvert_exporter": "python",
   "pygments_lexer": "ipython3",
   "version": "3.10.6"
  }
 },
 "nbformat": 4,
 "nbformat_minor": 5
}
